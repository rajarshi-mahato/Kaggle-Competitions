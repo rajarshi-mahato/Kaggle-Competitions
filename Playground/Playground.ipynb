{
  "nbformat": 4,
  "nbformat_minor": 0,
  "metadata": {
    "colab": {
      "provenance": []
    },
    "kernelspec": {
      "name": "python3",
      "display_name": "Python 3"
    },
    "language_info": {
      "name": "python"
    }
  },
  "cells": [
    {
      "cell_type": "code",
      "execution_count": 29,
      "metadata": {
        "id": "CWuk7UUpcY-H"
      },
      "outputs": [],
      "source": [
        "import pandas as pd\n",
        "import numpy as np\n",
        "import seaborn as sbs\n",
        "import matplotlib.pyplot as plt"
      ]
    },
    {
      "cell_type": "code",
      "source": [
        "train_data =  pd.read_csv('train.csv')\n",
        "test_data = pd.read_csv(\"test.csv\")"
      ],
      "metadata": {
        "id": "XX-Uwb13c9lu"
      },
      "execution_count": 30,
      "outputs": []
    },
    {
      "cell_type": "markdown",
      "source": [
        "# Filling Null Values"
      ],
      "metadata": {
        "id": "jDoyIP9nd1PV"
      }
    },
    {
      "cell_type": "code",
      "source": [
        "train_data.isnull().sum()[train_data.isnull().sum() > 0]\n",
        "test_data.isnull().sum()[test_data.isnull().sum() > 0]"
      ],
      "metadata": {
        "colab": {
          "base_uri": "https://localhost:8080/",
          "height": 84
        },
        "id": "ygo0hKkMdAy-",
        "outputId": "5d72aa9e-8a6c-4df4-abc1-b263b81f5ad6"
      },
      "execution_count": 31,
      "outputs": [
        {
          "output_type": "execute_result",
          "data": {
            "text/plain": [
              "Series([], dtype: int64)"
            ],
            "text/html": [
              "<div>\n",
              "<style scoped>\n",
              "    .dataframe tbody tr th:only-of-type {\n",
              "        vertical-align: middle;\n",
              "    }\n",
              "\n",
              "    .dataframe tbody tr th {\n",
              "        vertical-align: top;\n",
              "    }\n",
              "\n",
              "    .dataframe thead th {\n",
              "        text-align: right;\n",
              "    }\n",
              "</style>\n",
              "<table border=\"1\" class=\"dataframe\">\n",
              "  <thead>\n",
              "    <tr style=\"text-align: right;\">\n",
              "      <th></th>\n",
              "      <th>0</th>\n",
              "    </tr>\n",
              "  </thead>\n",
              "  <tbody>\n",
              "  </tbody>\n",
              "</table>\n",
              "</div><br><label><b>dtype:</b> int64</label>"
            ]
          },
          "metadata": {},
          "execution_count": 31
        }
      ]
    },
    {
      "cell_type": "markdown",
      "source": [
        "# Encoding Data"
      ],
      "metadata": {
        "id": "vyBoX3DLd6gs"
      }
    },
    {
      "cell_type": "code",
      "source": [
        "from sklearn.preprocessing import LabelEncoder\n",
        "\n",
        "label_encoders = {}\n",
        "\n",
        "for col in train_data.select_dtypes(include=['object']).columns:\n",
        "    le = LabelEncoder()\n",
        "    train_data[col] = le.fit_transform(train_data[col].astype(str))\n",
        "\n",
        "    # Handle unseen labels in test set\n",
        "    test_data[col] = test_data[col].astype(str)\n",
        "    test_data[col] = test_data[col].apply(lambda x: x if x in le.classes_ else 'Unknown')\n",
        "\n",
        "    # Add \"Unknown\" as a new possible class\n",
        "    le.classes_ = np.append(le.classes_, 'Unknown')\n",
        "    test_data[col] = le.transform(test_data[col])\n",
        "\n",
        "    label_encoders[col] = le\n",
        "\n",
        "\n",
        "parameter = [\n",
        "    \"road_signs_present\",\"public_road\",\"holiday\",\"school_season\"\n",
        "]\n",
        "for n in parameter:\n",
        "  train_data[n] =  le.fit_transform(train_data[n])\n",
        "  test_data[n] =  le.transform(test_data[n])"
      ],
      "metadata": {
        "id": "rwLMnXb5dQFQ"
      },
      "execution_count": 32,
      "outputs": []
    },
    {
      "cell_type": "markdown",
      "source": [
        "# Standadisation"
      ],
      "metadata": {
        "id": "oZZ1fUkOhCOU"
      }
    },
    {
      "cell_type": "code",
      "source": [
        "from sklearn.preprocessing import StandardScaler\n",
        "\n",
        "to_standardize = [\n",
        "    \"speed_limit\"\n",
        "]\n",
        "\n",
        "scaler = StandardScaler()\n",
        "train_data[to_standardize] = scaler.fit_transform(train_data[to_standardize])\n",
        "test_data[to_standardize] = scaler.transform(test_data[to_standardize])"
      ],
      "metadata": {
        "id": "YBrnwrh8fHFT"
      },
      "execution_count": 33,
      "outputs": []
    },
    {
      "cell_type": "markdown",
      "source": [
        "# Splitting the data"
      ],
      "metadata": {
        "id": "Gwj2ezxShI3v"
      }
    },
    {
      "cell_type": "code",
      "source": [
        "X_train = train_data.iloc[:,1:-1]\n",
        "y_train = train_data.iloc[:,-1]\n",
        "X_test = test_data.iloc[:,1:]"
      ],
      "metadata": {
        "id": "yYXREyQFhIT2"
      },
      "execution_count": 38,
      "outputs": []
    },
    {
      "cell_type": "code",
      "source": [
        "# train_data.to_csv(\"train_processed.csv\", index=False)\n",
        "# test_data.to_csv(\"test_processed.csv\", index=False)"
      ],
      "metadata": {
        "id": "FDT77GVBeBbx"
      },
      "execution_count": 34,
      "outputs": []
    },
    {
      "cell_type": "markdown",
      "source": [
        "# Model Selection"
      ],
      "metadata": {
        "id": "HSrf1UD_hfAD"
      }
    },
    {
      "cell_type": "code",
      "source": [
        "from sklearn.ensemble import GradientBoostingRegressor\n",
        "from sklearn.model_selection import GridSearchCV\n",
        "parameters = {\n",
        "    \"n_estimators\": [100, 200, 300, 500],\n",
        "    \"learning_rate\": [0.01, 0.05, 0.1, 0.2],\n",
        "    \"max_depth\": [3, 4, 5, 6],\n",
        "    \"min_samples_split\": [2, 5, 10],\n",
        "    \"min_samples_leaf\": [1, 2, 4],\n",
        "    \"subsample\": [0.6, 0.8, 1.0],\n",
        "    \"max_features\": [\"auto\", \"sqrt\", \"log2\"]\n",
        "}\n"
      ],
      "metadata": {
        "id": "Vhe2OlkOhkpd"
      },
      "execution_count": 39,
      "outputs": []
    },
    {
      "cell_type": "code",
      "source": [
        "regressor = GradientBoostingRegressor();\n",
        "from sklearn.model_selection import RandomizedSearchCV\n",
        "\n",
        "cv = RandomizedSearchCV(\n",
        "    regressor,\n",
        "    param_distributions=parameters,\n",
        "    n_iter=30,\n",
        "    cv=4,\n",
        "    scoring='r2',\n",
        "    random_state=42,\n",
        "    n_jobs=-1,\n",
        "    verbose=2\n",
        ")\n"
      ],
      "metadata": {
        "id": "tUKErNaziBqG"
      },
      "execution_count": 40,
      "outputs": []
    },
    {
      "cell_type": "code",
      "source": [
        "cv.fit(X_train,y_train)\n"
      ],
      "metadata": {
        "colab": {
          "base_uri": "https://localhost:8080/"
        },
        "id": "6DWUBeJEiHcl",
        "outputId": "9770beb1-6733-4fc1-e3b3-bcd7d8229bbd"
      },
      "execution_count": 41,
      "outputs": [
        {
          "output_type": "stream",
          "name": "stdout",
          "text": [
            "Fitting 4 folds for each of 30 candidates, totalling 120 fits\n"
          ]
        },
        {
          "output_type": "stream",
          "name": "stderr",
          "text": [
            "/usr/local/lib/python3.12/dist-packages/sklearn/model_selection/_validation.py:528: FitFailedWarning: \n",
            "24 fits failed out of a total of 120.\n",
            "The score on these train-test partitions for these parameters will be set to nan.\n",
            "If these failures are not expected, you can try to debug them by setting error_score='raise'.\n",
            "\n",
            "Below are more details about the failures:\n",
            "--------------------------------------------------------------------------------\n",
            "24 fits failed with the following error:\n",
            "Traceback (most recent call last):\n",
            "  File \"/usr/local/lib/python3.12/dist-packages/sklearn/model_selection/_validation.py\", line 866, in _fit_and_score\n",
            "    estimator.fit(X_train, y_train, **fit_params)\n",
            "  File \"/usr/local/lib/python3.12/dist-packages/sklearn/base.py\", line 1382, in wrapper\n",
            "    estimator._validate_params()\n",
            "  File \"/usr/local/lib/python3.12/dist-packages/sklearn/base.py\", line 436, in _validate_params\n",
            "    validate_parameter_constraints(\n",
            "  File \"/usr/local/lib/python3.12/dist-packages/sklearn/utils/_param_validation.py\", line 98, in validate_parameter_constraints\n",
            "    raise InvalidParameterError(\n",
            "sklearn.utils._param_validation.InvalidParameterError: The 'max_features' parameter of GradientBoostingRegressor must be an int in the range [1, inf), a float in the range (0.0, 1.0], a str among {'log2', 'sqrt'} or None. Got 'auto' instead.\n",
            "\n",
            "  warnings.warn(some_fits_failed_message, FitFailedWarning)\n",
            "/usr/local/lib/python3.12/dist-packages/sklearn/model_selection/_search.py:1108: UserWarning: One or more of the test scores are non-finite: [0.86382605 0.88442353 0.88383138 0.87779096 0.88428252 0.88282832\n",
            " 0.88353639        nan 0.86905736        nan 0.65004113 0.88459005\n",
            " 0.88530978 0.88475652 0.87181018        nan 0.88286107 0.87950351\n",
            " 0.884132   0.88028514 0.848449   0.67932276 0.88291078        nan\n",
            " 0.88353365        nan 0.88375192 0.86867448 0.88360472        nan]\n",
            "  warnings.warn(\n"
          ]
        },
        {
          "output_type": "stream",
          "name": "stdout",
          "text": [
            "{'subsample': 0.6, 'n_estimators': 500, 'min_samples_split': 5, 'min_samples_leaf': 2, 'max_features': 'sqrt', 'max_depth': 6, 'learning_rate': 0.05}\n",
            "0.8853097834849404\n"
          ]
        }
      ]
    },
    {
      "cell_type": "code",
      "source": [
        "print(cv.best_params_)\n",
        "print(cv.best_score_)"
      ],
      "metadata": {
        "colab": {
          "base_uri": "https://localhost:8080/"
        },
        "id": "j0Bxk6Gs32LS",
        "outputId": "33871463-a4b3-4f36-902e-36481f08882c"
      },
      "execution_count": 42,
      "outputs": [
        {
          "output_type": "stream",
          "name": "stdout",
          "text": [
            "{'subsample': 0.6, 'n_estimators': 500, 'min_samples_split': 5, 'min_samples_leaf': 2, 'max_features': 'sqrt', 'max_depth': 6, 'learning_rate': 0.05}\n",
            "0.8853097834849404\n"
          ]
        }
      ]
    },
    {
      "cell_type": "code",
      "source": [
        "y_pred = cv.predict(X_test)"
      ],
      "metadata": {
        "id": "hu-50_P1twi2"
      },
      "execution_count": 43,
      "outputs": []
    },
    {
      "cell_type": "code",
      "source": [
        "import pandas as pd\n",
        "import numpy as np\n",
        "\n",
        "# Create submission DataFrame\n",
        "submission = pd.DataFrame({\n",
        "    \"Id\": range(517754, 690339),  # since end is exclusive\n",
        "    \"risk\": y_pred\n",
        "})\n",
        "\n",
        "# Save to CSV\n",
        "submission.to_csv(\"Playground.csv\", index=False)\n",
        "print(\"✅ File saved as submission_finale_xgboost_rf_ensemble.csv\")"
      ],
      "metadata": {
        "colab": {
          "base_uri": "https://localhost:8080/"
        },
        "id": "GVntxmqdtaj5",
        "outputId": "c7b19059-bdd7-46ea-c793-99ae86e354d5"
      },
      "execution_count": 45,
      "outputs": [
        {
          "output_type": "stream",
          "name": "stdout",
          "text": [
            "✅ File saved as submission_finale_xgboost_rf_ensemble.csv\n"
          ]
        }
      ]
    }
  ]
}